{
 "cells": [
  {
   "cell_type": "code",
   "execution_count": 1,
   "metadata": {},
   "outputs": [
    {
     "name": "stdout",
     "output_type": "stream",
     "text": [
      "importing Jupyter notebook from MyLibrary.ipynb\n"
     ]
    }
   ],
   "source": [
    "import import_ipynb\n",
    "from MyLibrary import *"
   ]
  },
  {
   "cell_type": "code",
   "execution_count": 2,
   "metadata": {},
   "outputs": [],
   "source": [
    "R=[20.0,24.0,28.0,36.0,40.0,44.0,48.0,52.0,60.0,64.0,68.0,72.0,76.0,80.0,84.0,88.0,92.0,96.0]\n",
    "H=[44.80,45.24,47.57,46.01,52.01,53.41,50.59,51.32,41.92,37.01,34.10,30.04,20.76,12.49,0.95,-9.44,-26.93,-29.75]"
   ]
  },
  {
   "cell_type": "code",
   "execution_count": 3,
   "metadata": {},
   "outputs": [],
   "source": [
    "def PolFit(A,B,l,r=3):\n",
    "    M=[[0 for i in range(l)] for j in range(l)]\n",
    "    N=[[0] for i in range(l)]\n",
    "    #print(N[2][0])\n",
    "    for i in range(len(M)):\n",
    "        for k in range(len(A)):\n",
    "            N[i][0]+=B[k]*A[k]**i\n",
    "            for j in range(len(M[0])):\n",
    "                M[i][j]+=A[k]**(i+j)            \n",
    "    #print(M)\n",
    "    MC = copy.deepcopy(M)           \n",
    "    An=DEqnSolver(M,N,r)\n",
    "    #print(An)\n",
    "    #@Rit\n",
    "    An=Transpose(An)[0]\n",
    "    #print(An)\n",
    "    An.reverse()\n",
    "    #print(An)\n",
    "    #Ritadip 1911129\n",
    "    func=makepolfunction(An)\n",
    "    AN=sorted(A)\n",
    "    #print(MC)\n",
    "    YN=[func(i) for i in AN]\n",
    "    return(AN,YN,MC,An)"
   ]
  },
  {
   "cell_type": "code",
   "execution_count": 4,
   "metadata": {},
   "outputs": [],
   "source": [
    "X,Y,M,List=PolFit(R,H,3,4)"
   ]
  },
  {
   "cell_type": "code",
   "execution_count": 5,
   "metadata": {},
   "outputs": [
    {
     "name": "stdout",
     "output_type": "stream",
     "text": [
      "[18.0, 1072.0, 73760.0]\n",
      "[1072.0, 73760.0, 5545216.0]\n",
      "[73760.0, 5545216.0, 440359424.0]\n"
     ]
    }
   ],
   "source": [
    "Display(M)"
   ]
  },
  {
   "cell_type": "code",
   "execution_count": 6,
   "metadata": {},
   "outputs": [
    {
     "name": "stdout",
     "output_type": "stream",
     "text": [
      "The determinant is 747216961502.46\n",
      "As determinant is not 0, the matrix is invertible.\n"
     ]
    }
   ],
   "source": [
    "print(\"The determinant is \"+str(GetDetLU(M)))\n",
    "print(\"As determinant is not 0, the matrix is invertible.\")"
   ]
  },
  {
   "cell_type": "code",
   "execution_count": 7,
   "metadata": {},
   "outputs": [
    {
     "name": "stdout",
     "output_type": "stream",
     "text": [
      "a_0= 5.7241\n",
      "a_1= 2.31\n",
      "a_2 -0.0282\n",
      "So, the equation is:\n",
      "h(r)= -0.0282*r^2 + 2.31*r + 5.7241\n"
     ]
    }
   ],
   "source": [
    "print(\"a_0= \"+str(List[2])+\"\\na_1= \"+str(List[1])+\"\\na_2 \"+str(List[0]))\n",
    "print(\"So, the equation is:\\nh(r)= \"+str(List[0])+\"*r^2 + \"+str(List[1])+\"*r + \"+str(List[2]))"
   ]
  },
  {
   "cell_type": "code",
   "execution_count": 8,
   "metadata": {},
   "outputs": [],
   "source": [
    "def Func4(r):\n",
    "    return(List[0]*r**2+List[1]*r+List[2])"
   ]
  },
  {
   "cell_type": "code",
   "execution_count": 9,
   "metadata": {},
   "outputs": [
    {
     "name": "stdout",
     "output_type": "stream",
     "text": [
      "The highest point reached by the missile is 53.02995106382979 unit.\n"
     ]
    }
   ],
   "source": [
    "r=-List[1]/(2*List[0])\n",
    "h=Func4(r)\n",
    "print(\"The highest point reached by the missile is \"+str(h)+\" unit.\")"
   ]
  },
  {
   "cell_type": "code",
   "execution_count": 10,
   "metadata": {},
   "outputs": [
    {
     "data": {
      "image/png": "[encoded data removed]",
      "text/plain": [
       "<Figure size 432x288 with 1 Axes>"
      ]
     },
     "metadata": {
      "needs_background": "light"
     },
     "output_type": "display_data"
    }
   ],
   "source": [
    "plt.plot(X,Y,\"r-\")#plot of the graph\n",
    "plt.scatter(R,H)\n",
    "plt.xlabel(\"R\")\n",
    "plt.ylabel(\"H\")\n",
    "plt.grid()\n",
    "plt.show()"
   ]
  },
  {
   "cell_type": "code",
   "execution_count": 11,
   "metadata": {},
   "outputs": [
    {
     "data": {
      "image/png": "[encoded data removed]",
      "text/plain": [
       "<Figure size 432x288 with 1 Axes>"
      ]
     },
     "metadata": {
      "needs_background": "light"
     },
     "output_type": "display_data"
    }
   ],
   "source": [
    "plt.plot(X,Y,\"r-\")#This is to show peak h value is near 53, we can zoom into it more by changingthe limits\n",
    "plt.xlim(30,50)\n",
    "plt.ylim(40,60)\n",
    "plt.xlabel(\"R\")\n",
    "plt.ylabel(\"H\")\n",
    "plt.grid()\n",
    "plt.show()"
   ]
  },
  {
   "cell_type": "code",
   "execution_count": null,
   "metadata": {},
   "outputs": [],
   "source": []
  }
 ],
 "metadata": {
  "kernelspec": {
   "display_name": "Python 3",
   "language": "python",
   "name": "python3"
  },
  "language_info": {
   "codemirror_mode": {
    "name": "ipython",
    "version": 3
   },
   "file_extension": ".py",
   "mimetype": "text/x-python",
   "name": "python",
   "nbconvert_exporter": "python",
   "pygments_lexer": "ipython3",
   "version": "3.7.6"
  }
 },
 "nbformat": 4,
 "nbformat_minor": 4
}
