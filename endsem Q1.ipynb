{
 "cells": [
  {
   "cell_type": "code",
   "execution_count": 1,
   "metadata": {},
   "outputs": [
    {
     "name": "stdout",
     "output_type": "stream",
     "text": [
      "importing Jupyter notebook from MyLibrary.ipynb\n"
     ]
    }
   ],
   "source": [
    "import import_ipynb\n",
    "from MyLibrary import *"
   ]
  },
  {
   "cell_type": "code",
   "execution_count": 2,
   "metadata": {},
   "outputs": [],
   "source": [
    "P=5.95\n",
    "T=300\n",
    "R=0.0821\n",
    "a=6.254\n",
    "b=0.05422\n",
    "#Ritadip Bharati"
   ]
  },
  {
   "cell_type": "code",
   "execution_count": 3,
   "metadata": {},
   "outputs": [],
   "source": [
    "def Func1(v):\n",
    "    return(P*v-R*T)"
   ]
  },
  {
   "cell_type": "code",
   "execution_count": 4,
   "metadata": {},
   "outputs": [],
   "source": [
    "def Func2(v):\n",
    "    return((P+a/v**2)*(v-b)-R*T)"
   ]
  },
  {
   "cell_type": "code",
   "execution_count": 5,
   "metadata": {},
   "outputs": [],
   "source": [
    "v0,XN1,YN1=NR(Func1,0,tol=10**(-4))"
   ]
  },
  {
   "cell_type": "code",
   "execution_count": 6,
   "metadata": {},
   "outputs": [
    {
     "name": "stdout",
     "output_type": "stream",
     "text": [
      "The initial guess is V_0= 4.139495798320325 m^3.\n"
     ]
    }
   ],
   "source": [
    "print(\"The initial guess is V_0= \"+str(v0)+\" m^3.\")"
   ]
  },
  {
   "cell_type": "code",
   "execution_count": 7,
   "metadata": {},
   "outputs": [],
   "source": [
    "v,XN2,YN2=NR(Func2,v0,tol=10**(-4))\n",
    "#@Rit1911129"
   ]
  },
  {
   "cell_type": "code",
   "execution_count": 8,
   "metadata": {},
   "outputs": [
    {
     "name": "stdout",
     "output_type": "stream",
     "text": [
      "The volume for cl_2 is 3.9299487890452496 m^3.\n"
     ]
    }
   ],
   "source": [
    "print(\"The volume for cl_2 is \"+str(v)+\" m^3.\")"
   ]
  },
  {
   "cell_type": "code",
   "execution_count": null,
   "metadata": {},
   "outputs": [],
   "source": []
  }
 ],
 "metadata": {
  "kernelspec": {
   "display_name": "Python 3",
   "language": "python",
   "name": "python3"
  },
  "language_info": {
   "codemirror_mode": {
    "name": "ipython",
    "version": 3
   },
   "file_extension": ".py",
   "mimetype": "text/x-python",
   "name": "python",
   "nbconvert_exporter": "python",
   "pygments_lexer": "ipython3",
   "version": "3.7.6"
  }
 },
 "nbformat": 4,
 "nbformat_minor": 4
}
